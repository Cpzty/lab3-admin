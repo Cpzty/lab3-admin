{
 "cells": [
  {
   "cell_type": "code",
   "execution_count": 8,
   "metadata": {},
   "outputs": [],
   "source": [
    "import numpy as np \n",
    "import matplotlib.pyplot as plt\n"
   ]
  },
  {
   "cell_type": "code",
   "execution_count": 3,
   "metadata": {},
   "outputs": [
    {
     "name": "stdout",
     "output_type": "stream",
     "text": [
      "43\n",
      "43\n",
      "43\n",
      "269.6639621176605\n"
     ]
    }
   ],
   "source": [
    "pesimista =    [4,4,8,6,6,6,6,6,6,6,6,6,6,6,6,6,6,6,10,10,10,10,10,10,10,10,20,10,6,70,70,6,6,6,6,2,4,4,4,4,4,10,10]\n",
    "mas_probable = [2,2,4,3,3,3,3,3,3,3,3,3,3,3,3,3,3,3,5,5,5,5,5,5,5,5,10,5,3,50,50,3,3,3,3,1,2,2,2,2,2,5,5]\n",
    "optimista =    [1,1,2,1,1,1,1,1,1,1,1,1,1,1,1,1,1,1,3,3,3,3,3,3,3,3,5,3,2,35,35,1,1,1,1,1,1,1,1,1,1,3,3]\n",
    "\n",
    "print(len(pesimista))\n",
    "print(len(mas_probable))\n",
    "print(len(optimista))\n",
    "\n",
    "def lab3(runs):\n",
    "    days = 0\n",
    "    for i in range(runs):\n",
    "        for j in range(len(pesimista)):\n",
    "            days = days + np.random.triangular(optimista[j], mas_probable[j], pesimista[j])\n",
    "    \n",
    "    final_days = days/runs\n",
    "    print(final_days)\n",
    "    \n",
    "lab3(1)"
   ]
  },
  {
   "cell_type": "code",
   "execution_count": 18,
   "metadata": {},
   "outputs": [
    {
     "name": "stdout",
     "output_type": "stream",
     "text": [
      "11\n",
      "11\n",
      "11\n",
      "exitos: 0\n"
     ]
    },
    {
     "data": {
      "image/png": "[encoded data removed]",
      "text/plain": [
       "<Figure size 432x288 with 1 Axes>"
      ]
     },
     "metadata": {
      "needs_background": "light"
     },
     "output_type": "display_data"
    }
   ],
   "source": [
    "pesimista =    [4,8,6,6,10,10,2,70,70,10,10]\n",
    "mas_probable = [2,4,3,3,5,5,1,50,50,5,5]\n",
    "optimista =    [1,2,1,1,3,3,1,35,35,3,3]\n",
    "\n",
    "print(len(pesimista))\n",
    "print(len(mas_probable))\n",
    "print(len(optimista))\n",
    "\n",
    "def lab3(runs):\n",
    "    final_days = []\n",
    "    exitos = 0\n",
    "    for i in range(runs):\n",
    "        days = 0\n",
    "        for j in range(len(pesimista)):\n",
    "            days = days + np.random.triangular(optimista[j], mas_probable[j], pesimista[j])\n",
    "        if days <= 93:\n",
    "            exitos += 1\n",
    "        final_days.append(days)\n",
    "    plt.hist(final_days)\n",
    "    print(\"exitos: {}\".format(exitos))\n",
    "    \n",
    "lab3(10000)"
   ]
  },
  {
   "cell_type": "code",
   "execution_count": 19,
   "metadata": {},
   "outputs": [
    {
     "name": "stdout",
     "output_type": "stream",
     "text": [
      "exitos: 0\n"
     ]
    },
    {
     "data": {
      "image/png": "[encoded data removed]",
      "text/plain": [
       "<Figure size 432x288 with 1 Axes>"
      ]
     },
     "metadata": {
      "needs_background": "light"
     },
     "output_type": "display_data"
    }
   ],
   "source": [
    "lab3(100000)"
   ]
  }
 ],
 "metadata": {
  "kernelspec": {
   "display_name": "Python 3",
   "language": "python",
   "name": "python3"
  },
  "language_info": {
   "codemirror_mode": {
    "name": "ipython",
    "version": 3
   },
   "file_extension": ".py",
   "mimetype": "text/x-python",
   "name": "python",
   "nbconvert_exporter": "python",
   "pygments_lexer": "ipython3",
   "version": "3.7.1"
  }
 },
 "nbformat": 4,
 "nbformat_minor": 2
}
